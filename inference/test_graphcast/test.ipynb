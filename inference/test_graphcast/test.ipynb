{
 "cells": [
  {
   "cell_type": "code",
   "execution_count": 8,
   "metadata": {},
   "outputs": [
    {
     "data": {
      "text/plain": [
       "<module 'earth2mip.networks' from '/N/slate/jmelms/software/bigred200/miniconda3/envs/graphcast/lib/python3.10/site-packages/earth2mip/networks/__init__.py'>"
      ]
     },
     "execution_count": 8,
     "metadata": {},
     "output_type": "execute_result"
    }
   ],
   "source": [
    "import datetime\n",
    "import torch\n",
    "import earth2mip.networks as networks\n",
    "from earth2mip.initial_conditions import cds\n",
    "from earth2mip.inference_ensemble import run_basic_inference\n",
    "import importlib\n",
    "importlib.reload(networks)"
   ]
  },
  {
   "cell_type": "code",
   "execution_count": 9,
   "metadata": {},
   "outputs": [
    {
     "name": "stdout",
     "output_type": "stream",
     "text": [
      "Model description:\n",
      " \n",
      "GraphCast model at 0.25deg resolution, with 37 pressure levels. This model is\n",
      "trained on ERA5 data from 1979 to 2017, and can be causally evaluated on 2018\n",
      "and later years. This model takes as inputs `total_precipitation_6hr`. This was\n",
      "described in the paper\n",
      "`GraphCast: Learning skillful medium-range global weather forecasting`\n",
      "(https://arxiv.org/abs/2212.12794).\n",
      " \n",
      "\n",
      "Model license:\n",
      " \n",
      "The model weights are licensed under the Creative Commons\n",
      "Attribution-NonCommercial-ShareAlike 4.0 International (CC BY-NC-SA 4.0). You\n",
      "may obtain a copy of the License at:\n",
      "https://creativecommons.org/licenses/by-nc-sa/4.0/.\n",
      "The weights were trained on ERA5 data, see README for attribution statement.\n",
      " \n",
      "\n",
      "All Examples:   {'lon': 1440, 'lat': 721, 'level': 37, 'time': 6, 'batch': 1}\n",
      "Eval Inputs:    {'batch': 1, 'time': 2, 'lat': 721, 'lon': 1440, 'level': 37}\n",
      "Eval Targets:   {'batch': 1, 'time': 1, 'lat': 721, 'lon': 1440, 'level': 37}\n",
      "Eval Forcings:  {'batch': 1, 'time': 1, 'lat': 721, 'lon': 1440}\n",
      "Inputs:   {'batch': 1, 'time': 2, 'lat': 721, 'lon': 1440, 'level': 37}\n",
      "Targets:  {'batch': 1, 'time': 1, 'lat': 721, 'lon': 1440, 'level': 37}\n",
      "Forcings: {'batch': 1, 'time': 1, 'lat': 721, 'lon': 1440}\n"
     ]
    },
    {
     "name": "stderr",
     "output_type": "stream",
     "text": [
      "/N/slate/jmelms/software/bigred200/miniconda3/envs/graphcast/lib/python3.10/site-packages/earth2mip/networks/graphcast.py:585: FutureWarning: The return type of `Dataset.dims` will be changed to return a set of dimension names in future, in order to be more consistent with `DataArray.dims`. To access a mapping from dimension names to lengths, please use `Dataset.sizes`.\n",
      "  assert example_batch.dims[\"time\"] >= 3  # noqa\n"
     ]
    },
    {
     "ename": "TypeError",
     "evalue": "'Device' object is not callable",
     "output_type": "error",
     "traceback": [
      "\u001b[0;31m---------------------------------------------------------------------------\u001b[0m",
      "\u001b[0;31mTypeError\u001b[0m                                 Traceback (most recent call last)",
      "Cell \u001b[0;32mIn[9], line 2\u001b[0m\n\u001b[1;32m      1\u001b[0m \u001b[38;5;66;03m# @title Problem child\u001b[39;00m\n\u001b[0;32m----> 2\u001b[0m time_loop \u001b[38;5;241m=\u001b[39m \u001b[43mnetworks\u001b[49m\u001b[38;5;241;43m.\u001b[39;49m\u001b[43mget_model\u001b[49m\u001b[43m(\u001b[49m\u001b[38;5;124;43m\"\u001b[39;49m\u001b[38;5;124;43me2mip://graphcast\u001b[39;49m\u001b[38;5;124;43m\"\u001b[39;49m\u001b[43m,\u001b[49m\u001b[43m \u001b[49m\u001b[43mdevice\u001b[49m\u001b[38;5;241;43m=\u001b[39;49m\u001b[38;5;124;43m\"\u001b[39;49m\u001b[38;5;124;43mcuda:0\u001b[39;49m\u001b[38;5;124;43m\"\u001b[39;49m\u001b[43m)\u001b[49m\n\u001b[1;32m      3\u001b[0m data_source \u001b[38;5;241m=\u001b[39m cds\u001b[38;5;241m.\u001b[39mDataSource(time_loop\u001b[38;5;241m.\u001b[39min_channel_names)\n\u001b[1;32m      4\u001b[0m ds \u001b[38;5;241m=\u001b[39m run_basic_inference(time_loop, n\u001b[38;5;241m=\u001b[39m\u001b[38;5;241m10\u001b[39m, data_source\u001b[38;5;241m=\u001b[39mdata_source, time\u001b[38;5;241m=\u001b[39mdatetime\u001b[38;5;241m.\u001b[39mdatetime(\u001b[38;5;241m2018\u001b[39m, \u001b[38;5;241m1\u001b[39m, \u001b[38;5;241m1\u001b[39m))\n",
      "File \u001b[0;32m/N/slate/jmelms/software/bigred200/miniconda3/envs/graphcast/lib/python3.10/site-packages/earth2mip/networks/__init__.py:357\u001b[0m, in \u001b[0;36mget_model\u001b[0;34m(model, registry, device, metadata)\u001b[0m\n\u001b[1;32m    355\u001b[0m \u001b[38;5;28;01mif\u001b[39;00m url\u001b[38;5;241m.\u001b[39mscheme \u001b[38;5;241m==\u001b[39m \u001b[38;5;124m\"\u001b[39m\u001b[38;5;124me2mip\u001b[39m\u001b[38;5;124m\"\u001b[39m:\n\u001b[1;32m    356\u001b[0m     package \u001b[38;5;241m=\u001b[39m registry\u001b[38;5;241m.\u001b[39mget_model(model)\n\u001b[0;32m--> 357\u001b[0m     \u001b[38;5;28;01mreturn\u001b[39;00m \u001b[43m_load_package_builtin\u001b[49m\u001b[43m(\u001b[49m\u001b[43mpackage\u001b[49m\u001b[43m,\u001b[49m\u001b[43m \u001b[49m\u001b[43mdevice\u001b[49m\u001b[43m,\u001b[49m\u001b[43m \u001b[49m\u001b[43mname\u001b[49m\u001b[38;5;241;43m=\u001b[39;49m\u001b[43murl\u001b[49m\u001b[38;5;241;43m.\u001b[39;49m\u001b[43mnetloc\u001b[49m\u001b[43m)\u001b[49m\n\u001b[1;32m    358\u001b[0m \u001b[38;5;28;01melif\u001b[39;00m url\u001b[38;5;241m.\u001b[39mscheme \u001b[38;5;241m==\u001b[39m \u001b[38;5;124m\"\u001b[39m\u001b[38;5;124m\"\u001b[39m:\n\u001b[1;32m    359\u001b[0m     package \u001b[38;5;241m=\u001b[39m registry\u001b[38;5;241m.\u001b[39mget_model(model)\n",
      "File \u001b[0;32m/N/slate/jmelms/software/bigred200/miniconda3/envs/graphcast/lib/python3.10/site-packages/earth2mip/networks/__init__.py:303\u001b[0m, in \u001b[0;36m_load_package_builtin\u001b[0;34m(package, device, name)\u001b[0m\n\u001b[1;32m    301\u001b[0m     \u001b[38;5;28;01mif\u001b[39;00m entry_point\u001b[38;5;241m.\u001b[39mname \u001b[38;5;241m==\u001b[39m name:\n\u001b[1;32m    302\u001b[0m         inference_loader \u001b[38;5;241m=\u001b[39m entry_point\u001b[38;5;241m.\u001b[39mload()\n\u001b[0;32m--> 303\u001b[0m         \u001b[38;5;28;01mreturn\u001b[39;00m \u001b[43minference_loader\u001b[49m\u001b[43m(\u001b[49m\u001b[43mpackage\u001b[49m\u001b[43m,\u001b[49m\u001b[43m \u001b[49m\u001b[43mdevice\u001b[49m\u001b[38;5;241;43m=\u001b[39;49m\u001b[43mdevice\u001b[49m\u001b[43m)\u001b[49m\n\u001b[1;32m    304\u001b[0m \u001b[38;5;28;01mraise\u001b[39;00m \u001b[38;5;167;01mValueError\u001b[39;00m(\u001b[38;5;124mf\u001b[39m\u001b[38;5;124m\"\u001b[39m\u001b[38;5;132;01m{\u001b[39;00mname\u001b[38;5;132;01m}\u001b[39;00m\u001b[38;5;124m not in \u001b[39m\u001b[38;5;132;01m{\u001b[39;00mnames_found\u001b[38;5;132;01m}\u001b[39;00m\u001b[38;5;124m.\u001b[39m\u001b[38;5;124m\"\u001b[39m)\n",
      "File \u001b[0;32m/N/slate/jmelms/software/bigred200/miniconda3/envs/graphcast/lib/python3.10/site-packages/earth2mip/networks/graphcast.py:701\u001b[0m, in \u001b[0;36mload_time_loop\u001b[0;34m(package, pretrained, device)\u001b[0m\n\u001b[1;32m    696\u001b[0m \u001b[38;5;28;01mdef\u001b[39;00m \u001b[38;5;21mload_time_loop\u001b[39m(\n\u001b[1;32m    697\u001b[0m     package,\n\u001b[1;32m    698\u001b[0m     pretrained\u001b[38;5;241m=\u001b[39m\u001b[38;5;28;01mTrue\u001b[39;00m,\n\u001b[1;32m    699\u001b[0m     device\u001b[38;5;241m=\u001b[39m\u001b[38;5;124m\"\u001b[39m\u001b[38;5;124mcuda:0\u001b[39m\u001b[38;5;124m\"\u001b[39m,\n\u001b[1;32m    700\u001b[0m ) \u001b[38;5;241m-\u001b[39m\u001b[38;5;241m>\u001b[39m TimeStepperLoop:\n\u001b[0;32m--> 701\u001b[0m     \u001b[38;5;28;01mreturn\u001b[39;00m \u001b[43m_load_time_loop_from_description\u001b[49m\u001b[43m(\u001b[49m\n\u001b[1;32m    702\u001b[0m \u001b[43m        \u001b[49m\u001b[43mpackage\u001b[49m\u001b[38;5;241;43m=\u001b[39;49m\u001b[43mpackage\u001b[49m\u001b[43m,\u001b[49m\n\u001b[1;32m    703\u001b[0m \u001b[43m        \u001b[49m\u001b[43mcheckpoint_path\u001b[49m\u001b[38;5;241;43m=\u001b[39;49m\u001b[38;5;124;43m\"\u001b[39;49m\u001b[38;5;124;43mGraphCast - ERA5 1979-2017 - resolution 0.25 - pressure levels 37 - mesh 2to6 - precipitation input and output.npz\u001b[39;49m\u001b[38;5;124;43m\"\u001b[39;49m\u001b[43m,\u001b[49m\u001b[43m  \u001b[49m\u001b[38;5;66;43;03m# noqa\u001b[39;49;00m\n\u001b[1;32m    704\u001b[0m \u001b[43m        \u001b[49m\u001b[43mdataset_path\u001b[49m\u001b[38;5;241;43m=\u001b[39;49m\u001b[38;5;124;43m\"\u001b[39;49m\u001b[38;5;124;43msource-era5_date-2022-01-01_res-0.25_levels-37_steps-04.nc\u001b[39;49m\u001b[38;5;124;43m\"\u001b[39;49m\u001b[43m,\u001b[49m\n\u001b[1;32m    705\u001b[0m \u001b[43m        \u001b[49m\u001b[43mdevice\u001b[49m\u001b[38;5;241;43m=\u001b[39;49m\u001b[43mdevice\u001b[49m\u001b[43m,\u001b[49m\n\u001b[1;32m    706\u001b[0m \u001b[43m    \u001b[49m\u001b[43m)\u001b[49m\n",
      "File \u001b[0;32m/N/slate/jmelms/software/bigred200/miniconda3/envs/graphcast/lib/python3.10/site-packages/earth2mip/networks/graphcast.py:691\u001b[0m, in \u001b[0;36m_load_time_loop_from_description\u001b[0;34m(package, checkpoint_path, dataset_path, device)\u001b[0m\n\u001b[1;32m    689\u001b[0m dataset_path \u001b[38;5;241m=\u001b[39m package\u001b[38;5;241m.\u001b[39mget(os\u001b[38;5;241m.\u001b[39mpath\u001b[38;5;241m.\u001b[39mjoin(\u001b[38;5;124m\"\u001b[39m\u001b[38;5;124mdataset\u001b[39m\u001b[38;5;124m\"\u001b[39m, dataset_path))\n\u001b[1;32m    690\u001b[0m stats_dir \u001b[38;5;241m=\u001b[39m package\u001b[38;5;241m.\u001b[39mget(\u001b[38;5;124m\"\u001b[39m\u001b[38;5;124mstats\u001b[39m\u001b[38;5;124m\"\u001b[39m, recursive\u001b[38;5;241m=\u001b[39m\u001b[38;5;28;01mTrue\u001b[39;00m)\n\u001b[0;32m--> 691\u001b[0m stepper \u001b[38;5;241m=\u001b[39m \u001b[43mload_stepper\u001b[49m\u001b[43m(\u001b[49m\u001b[43mcheckpoint\u001b[49m\u001b[43m,\u001b[49m\u001b[43m \u001b[49m\u001b[43mdataset_path\u001b[49m\u001b[43m,\u001b[49m\u001b[43m \u001b[49m\u001b[43mstats_dir\u001b[49m\u001b[43m,\u001b[49m\u001b[43m \u001b[49m\u001b[43mdevice\u001b[49m\u001b[38;5;241;43m=\u001b[39;49m\u001b[43mdevice\u001b[49m\u001b[43m)\u001b[49m\n\u001b[1;32m    692\u001b[0m \u001b[38;5;28;01mreturn\u001b[39;00m TimeStepperLoop(stepper)\n",
      "File \u001b[0;32m/N/slate/jmelms/software/bigred200/miniconda3/envs/graphcast/lib/python3.10/site-packages/earth2mip/networks/graphcast.py:671\u001b[0m, in \u001b[0;36mload_stepper\u001b[0;34m(checkpoint_path, dataset_filename, stats_dir, device)\u001b[0m\n\u001b[1;32m    666\u001b[0m     \u001b[38;5;28;01mreturn\u001b[39;00m \u001b[38;5;28;01mlambda\u001b[39;00m \u001b[38;5;241m*\u001b[39m\u001b[38;5;241m*\u001b[39mkw: fn(\u001b[38;5;241m*\u001b[39m\u001b[38;5;241m*\u001b[39mkw)[\u001b[38;5;241m0\u001b[39m]\n\u001b[1;32m    668\u001b[0m run_forward_jitted \u001b[38;5;241m=\u001b[39m drop_state(\n\u001b[1;32m    669\u001b[0m     with_params(jax\u001b[38;5;241m.\u001b[39mjit(with_configs(run_forward\u001b[38;5;241m.\u001b[39mapply)))\n\u001b[1;32m    670\u001b[0m )\n\u001b[0;32m--> 671\u001b[0m stepper \u001b[38;5;241m=\u001b[39m \u001b[43mGraphcastStepper\u001b[49m\u001b[43m(\u001b[49m\n\u001b[1;32m    672\u001b[0m \u001b[43m    \u001b[49m\u001b[43mrun_forward_jitted\u001b[49m\u001b[43m,\u001b[49m\n\u001b[1;32m    673\u001b[0m \u001b[43m    \u001b[49m\u001b[43meval_inputs\u001b[49m\u001b[43m,\u001b[49m\n\u001b[1;32m    674\u001b[0m \u001b[43m    \u001b[49m\u001b[43meval_targets\u001b[49m\u001b[43m,\u001b[49m\n\u001b[1;32m    675\u001b[0m \u001b[43m    \u001b[49m\u001b[43meval_forcings\u001b[49m\u001b[43m,\u001b[49m\n\u001b[1;32m    676\u001b[0m \u001b[43m    \u001b[49m\u001b[43mtask_config\u001b[49m\u001b[43m,\u001b[49m\n\u001b[1;32m    677\u001b[0m \u001b[43m    \u001b[49m\u001b[43mdevice\u001b[49m\u001b[38;5;241;43m=\u001b[39;49m\u001b[43mdevice\u001b[49m\u001b[43m,\u001b[49m\n\u001b[1;32m    678\u001b[0m \u001b[43m\u001b[49m\u001b[43m)\u001b[49m\n\u001b[1;32m    679\u001b[0m \u001b[38;5;28;01mreturn\u001b[39;00m stepper\n",
      "File \u001b[0;32m/N/slate/jmelms/software/bigred200/miniconda3/envs/graphcast/lib/python3.10/site-packages/earth2mip/networks/graphcast.py:365\u001b[0m, in \u001b[0;36mGraphcastStepper.__init__\u001b[0;34m(self, run_forward, eval_inputs, eval_targets, eval_forcings, task_config, device)\u001b[0m\n\u001b[1;32m    361\u001b[0m \u001b[38;5;28mself\u001b[39m\u001b[38;5;241m.\u001b[39m_n_history_levels \u001b[38;5;241m=\u001b[39m (\n\u001b[1;32m    362\u001b[0m     pd\u001b[38;5;241m.\u001b[39mTimedelta(task_config\u001b[38;5;241m.\u001b[39minput_duration) \u001b[38;5;241m/\u001b[39m\u001b[38;5;241m/\u001b[39m \u001b[38;5;28mself\u001b[39m\u001b[38;5;241m.\u001b[39m_history_time_step\n\u001b[1;32m    363\u001b[0m )\n\u001b[1;32m    364\u001b[0m \u001b[38;5;28mself\u001b[39m\u001b[38;5;241m.\u001b[39m_device \u001b[38;5;241m=\u001b[39m device \u001b[38;5;129;01mor\u001b[39;00m torch\u001b[38;5;241m.\u001b[39mcuda\u001b[38;5;241m.\u001b[39mcurrent_device()\n\u001b[0;32m--> 365\u001b[0m \u001b[38;5;28mself\u001b[39m\u001b[38;5;241m.\u001b[39m_jax_device \u001b[38;5;241m=\u001b[39m \u001b[43mtorch_device_to_jax\u001b[49m\u001b[43m(\u001b[49m\u001b[38;5;28;43mself\u001b[39;49m\u001b[38;5;241;43m.\u001b[39;49m\u001b[43m_device\u001b[49m\u001b[43m)\u001b[49m\n\u001b[1;32m    366\u001b[0m \u001b[38;5;28mself\u001b[39m\u001b[38;5;241m.\u001b[39mlat \u001b[38;5;241m=\u001b[39m jax\u001b[38;5;241m.\u001b[39mdevice_put(lat, device\u001b[38;5;241m=\u001b[39m\u001b[38;5;28mself\u001b[39m\u001b[38;5;241m.\u001b[39m_jax_device)\n\u001b[1;32m    367\u001b[0m \u001b[38;5;28mself\u001b[39m\u001b[38;5;241m.\u001b[39mlon \u001b[38;5;241m=\u001b[39m jax\u001b[38;5;241m.\u001b[39mdevice_put(lon, device\u001b[38;5;241m=\u001b[39m\u001b[38;5;28mself\u001b[39m\u001b[38;5;241m.\u001b[39m_jax_device)\n",
      "File \u001b[0;32m/N/slate/jmelms/software/bigred200/miniconda3/envs/graphcast/lib/python3.10/site-packages/earth2mip/networks/graphcast.py:220\u001b[0m, in \u001b[0;36mtorch_device_to_jax\u001b[0;34m(device)\u001b[0m\n\u001b[1;32m    218\u001b[0m \u001b[38;5;28;01mdef\u001b[39;00m \u001b[38;5;21mtorch_device_to_jax\u001b[39m(device: torch\u001b[38;5;241m.\u001b[39mdevice) \u001b[38;5;241m-\u001b[39m\u001b[38;5;241m>\u001b[39m jax\u001b[38;5;241m.\u001b[39mDevice:\n\u001b[1;32m    219\u001b[0m     x \u001b[38;5;241m=\u001b[39m torch\u001b[38;5;241m.\u001b[39mones([], device\u001b[38;5;241m=\u001b[39mdevice)\n\u001b[0;32m--> 220\u001b[0m     \u001b[38;5;28;01mreturn\u001b[39;00m \u001b[43mtorch_to_jax\u001b[49m\u001b[43m(\u001b[49m\u001b[43mx\u001b[49m\u001b[43m)\u001b[49m\u001b[38;5;241;43m.\u001b[39;49m\u001b[43mdevice\u001b[49m\u001b[43m(\u001b[49m\u001b[43m)\u001b[49m\n",
      "\u001b[0;31mTypeError\u001b[0m: 'Device' object is not callable"
     ]
    }
   ],
   "source": [
    "# @title Problem child\n",
    "time_loop = networks.get_model(\"e2mip://graphcast\", device=\"cuda:0\")\n",
    "data_source = cds.DataSource(time_loop.in_channel_names)\n",
    "ds = run_basic_inference(time_loop, n=10, data_source=data_source, time=datetime.datetime(2018, 1, 1))\n"
   ]
  }
 ],
 "metadata": {
  "kernelspec": {
   "display_name": "Python 3 (ipykernel)",
   "language": "python",
   "name": "python3"
  }
 },
 "nbformat": 4,
 "nbformat_minor": 2
}
